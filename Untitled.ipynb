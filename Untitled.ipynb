{
 "cells": [
  {
   "cell_type": "markdown",
   "metadata": {},
   "source": [
    "# Bestimmung der Druck und Masse einer Wolke\n",
    "\n",
    "## Pysikalische Grundlagen\n",
    "\n",
    "### Rayleigh-Jeans-Näherung\n",
    "#### Durch die Rayleigh-Jeans-Näherungsformel kann man darauf kommen, dass die Helligkeitstemperatur Abhängig von Helligkeit ist. \n",
    "$$ B(\\nu,T)=\\frac{2h\\nu^3}{c^2} (e^{\\frac{h\\nu}{KT}}-1)^{-1}$$\n",
    "#### Die Taylorentwiklung von e-Funktion ergibt dass \n",
    "$$B_{\\nu} \\propto T$$\n",
    "\n",
    "### Hyperfeinstrukturübergang\n",
    "#### Die Energieunterschied zwischen den Parellel und Antiparallel gerichtete Spin des Elektrons und Protons in den neutralen Hydrogen verursacht  Emission der HI Strahlung. Dagegen kann dieses Atom duch Absorbtion der Strahlung wieder parallel gerichtet werden. Nach dem lebensdauer der angeregten Zustand bis ein Atom ohne äußere Wirkung, die duch spontane Zerfall bestimmt wird, emittiert wieder der gleichen Strahl.\n",
    "$$\\tau = \\frac{1}{A_{21}}$$\n",
    "\n",
    "#### Zu betrachten ist, dass die absorbierte Energie muss nach dem kirschhoff'schen Prinzip wieder abgestrahlt werden und zwar in alle Richtungen (isotrop)\n",
    "#### Die Energiedifferenz wäre etwa $ 5,9.10^{-6} eV$ .\n",
    "#### Nach dem plankschen Wirkungsquantom kann Energie in Abhängigkeit von Friquenz bestimmt werden und dadurch erhalten wir die Wellenlänge\n",
    "$$ E=h \\nu $$ $$\\nu = 1420.405$$ \n",
    "$$\\mapsto \\lambda=21 cm$$\n",
    "\n",
    "#### Das ist auch zu betrachten dass je mehr Atomr in der wlke gibt desto gibt es eine höhere Wert von $T_{B}$\n",
    "\n",
    "## Rechnungen\n",
    "### Anzahl der Atome\n",
    "#### Die anzahl der Atome ist durch gebgebene formel zu bestimmen\n",
    "$${\\biggl( { \\eta_{\\rm H} \\over {\\rm\n",
    "cm}^{-2} }\\biggr) \\approx\n",
    "1.82 \\times 10^{18} \\int \\biggl[ { T_{\\rm b} (v) \\over {\\rm K}} \\biggr]\n",
    "d \\biggl( { v \\over {\\rm km~s}^{-1} } \\biggr)}\\rlap{\\quad \\rm\n",
    "{}}$$\n",
    "\n",
    "##### Es ist in diesen fall für $ dv = 1.288$  $km/s $ angenommen\n",
    "\n"
   ]
  },
  {
   "cell_type": "code",
   "execution_count": null,
   "metadata": {
    "collapsed": false
   },
   "outputs": [],
   "source": []
  },
  {
   "cell_type": "code",
   "execution_count": null,
   "metadata": {
    "collapsed": true
   },
   "outputs": [],
   "source": []
  }
 ],
 "metadata": {
  "kernelspec": {
   "display_name": "Python 2",
   "language": "python",
   "name": "python2"
  },
  "language_info": {
   "codemirror_mode": {
    "name": "ipython",
    "version": 2
   },
   "file_extension": ".py",
   "mimetype": "text/x-python",
   "name": "python",
   "nbconvert_exporter": "python",
   "pygments_lexer": "ipython2",
   "version": "2.7.10"
  }
 },
 "nbformat": 4,
 "nbformat_minor": 0
}
