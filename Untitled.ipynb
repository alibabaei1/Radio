{
 "cells": [
  {
   "cell_type": "markdown",
   "metadata": {},
   "source": [
    "# Bestimmung der Druck und Masse einer Wolke\n",
    "\n",
    "## Pysikalische Grundlagen\n",
    "\n",
    "#### Die Quelle von alle angenommene Werte und Formeln : http://www.cv.nrao.edu/course/astr534/HILine.html \n",
    "\n",
    "### Rayleigh-Jeans-Näherung\n",
    "#### Durch die Rayleigh-Jeans-Näherungsformel kann man darauf kommen, dass die Helligkeitstemperatur Abhängig von Helligkeit ist. \n",
    "$$ B(\\nu,T)=\\frac{2h\\nu^3}{c^2} (e^{\\frac{h\\nu}{KT}}-1)^{-1}$$\n",
    "#### Die Taylorentwiklung von e-Funktion ergibt dass \n",
    "$$B_{\\nu} \\propto T$$\n",
    "\n",
    "### Hyperfeinstrukturübergang\n",
    "#### Die Energieunterschied zwischen den Parellel und Antiparallel gerichtete Spin des Elektrons und Protons in den neutralen Hydrogen verursacht  Emission der HI Strahlung. Dagegen kann dieses Atom duch Absorbtion der Strahlung wieder parallel gerichtet werden. Nach dem lebensdauer der angeregten Zustand bis ein Atom ohne äußere Wirkung, die duch spontane Zerfall bestimmt wird, emittiert wieder der gleichen Strahl.\n",
    "$$\\tau = \\frac{1}{A_{21}}$$\n",
    "\n",
    "#### Zu betrachten ist, dass die absorbierte Energie muss nach dem kirschhoff'schen Prinzip wieder abgestrahlt werden und zwar in alle Richtungen (isotrop)\n",
    "#### Die Energiedifferenz wäre etwa $ 5,9.10^{-6} eV$ .\n",
    "#### Nach dem plankschen Wirkungsquantom kann Energie in Abhängigkeit von Friquenz bestimmt werden und dadurch erhalten wir die Wellenlänge\n",
    "$$ E=h \\nu $$ $$\\nu = 1420.405$$ \n",
    "$$\\mapsto \\lambda=21 cm$$\n",
    "\n",
    "#### Das ist auch zu betrachten dass je mehr Atomr in der wlke gibt desto gibt es eine höhere Wert von $T_{B}$\n",
    "\n",
    "## Rechnungen\n",
    "### Anzahl der Atome\n",
    "#### Die anzahl der Atome ist durch gebgebene formel zu bestimmen\n",
    "$${\\biggl( { \\eta_{\\rm H} \\over {\\rm\n",
    "cm}^{-2} }\\biggr) \\approx\n",
    "1.82 \\times 10^{18} \\int \\biggl[ { T_{\\rm b} (v) \\over {\\rm K}} \\biggr]\n",
    "d \\biggl( { v \\over {\\rm km~s}^{-1} } \\biggr)}\\rlap{\\quad \\rm\n",
    "{}}$$\n",
    "\n",
    "##### Es ist in diesen fall für $ dv = 1.288$  $km/s $ und die entfernung 50kpc angenommen\n",
    "##### Es ist durch die forrmel $P.V= n.K_{b}.T$\n",
    "##### $$T\\approx {h c \\over k \\lambda} \\approx {6.63 \\times 10^{-27} {\\rm\n",
    "~erg~s} \\cdot 3 \\times 10^{10} {\\rm ~cm~s}^{-1} \\over 1.38 \\times\n",
    "10^{-16} {\\rm ~erg~K}^{-1} \\cdot 157.7 \\times 10^{-4} {\\rm ~cm}}\n",
    "\\approx 91~K~$$\n",
    "##### Boltzman konstante $K_{b}=$"
   ]
  },
  {
   "cell_type": "markdown",
   "metadata": {},
   "source": [
    "## Messungen von den ersten Karte\n",
    "\n",
    "$$Sum = \\sum_{i=1} t_i = 5036.29 K$$\n",
    "$$ \\Delta Glat= 1.085467$$\n",
    "$$\\Delta Glon = 1.94368$$"
   ]
  },
  {
   "cell_type": "code",
   "execution_count": 34,
   "metadata": {
    "collapsed": false
   },
   "outputs": [
    {
     "name": "stdout",
     "output_type": "stream",
     "text": [
      "Der anzahl der Atome ist 1.1838303274e+22\n",
      "Der Betrag der Volumen ist 2.50812857995e+69\n",
      "5.93012965243e-69\n"
     ]
    }
   ],
   "source": [
    "import math\n",
    "SUM=5036.29\n",
    "n=1.825*SUM*1.288*10**18\n",
    "glat = 1.085467\n",
    "glon = 1.94368\n",
    "alpha = ((glat**2+glon**2)**(1/2))/2               # Das ist die Winkel von Radius\n",
    "r = math.tan(alpha)*1.54283879 * 10**23            # Radius in cm\n",
    "v = (4*math.pi*r**3)/3                             # Volumen in cm^3\n",
    "T = 91                                             # Temperatur der Wolke in kelvin\n",
    "k = 1.38064852*10**(-23)                           # Boltzman konstante\n",
    "p = n * k * T /v\n",
    "\n",
    "print \"Der anzahl der Atome ist\"+\" \"+str(n)\n",
    "print \"Der Betrag der Volumen ist\"+\" \"+str(v)\n",
    "print p"
   ]
  },
  {
   "cell_type": "code",
   "execution_count": null,
   "metadata": {
    "collapsed": true
   },
   "outputs": [],
   "source": []
  }
 ],
 "metadata": {
  "kernelspec": {
   "display_name": "Python 2",
   "language": "python",
   "name": "python2"
  },
  "language_info": {
   "codemirror_mode": {
    "name": "ipython",
    "version": 2
   },
   "file_extension": ".py",
   "mimetype": "text/x-python",
   "name": "python",
   "nbconvert_exporter": "python",
   "pygments_lexer": "ipython2",
   "version": "2.7.10"
  }
 },
 "nbformat": 4,
 "nbformat_minor": 0
}
