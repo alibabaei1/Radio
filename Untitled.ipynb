{
 "cells": [
  {
   "cell_type": "markdown",
   "metadata": {},
   "source": [
    "# Bestimmung der Druck und Masse einer HI Wolke\n",
    "\n",
    "## Pysikalische Grundlagen\n",
    "\n",
    "#### Die Quelle von alle angenommene Werte und Formeln : http://www.cv.nrao.edu/course/astr534/HILine.html \n",
    "\n",
    "### Rayleigh-Jeans-Näherung\n",
    "#### Durch die Rayleigh-Jeans-Näherungsformel kann man darauf kommen, dass die Helligkeitstemperatur Abhängig von Helligkeit ist. \n",
    "$$ {B(\\nu,T)=\\frac{2h\\nu^3}{c^2} (e^{\\frac{h\\nu}{KT}}-1)^{-1}}$$\n",
    "#### Die Taylorentwiklung von e-Funktion ergibt dass \n",
    "$$B_{\\nu} \\propto T$$\n",
    "\n",
    "### Hyperfeinstrukturübergang\n",
    "#### Die Energieunterschied zwischen den Parellel und Antiparallel gerichtete Spin des Elektrons und Protons in den neutralen Hydrogen verursacht  Emission der HI Strahlung. Dagegen kann dieses Atom duch Absorbtion der Strahlung wieder parallel gerichtet werden. Nach dem lebensdauer der angeregten Zustand bis ein Atom ohne äußere Wirkung, die duch spontane Zerfall bestimmt wird, emittiert wieder der gleichen Strahl.\n",
    "$$\\tau = \\frac{1}{A_{21}}$$\n",
    "\n",
    "\n",
    "#### Zu betrachten ist, dass die absorbierte Energie muss nach dem kirschhoff'schen Prinzip wieder abgestrahlt werden und zwar in alle Richtungen (isotrop)\n",
    "#### Die Energiedifferenz wäre etwa $ 5,9.10^{-6} eV$ .\n",
    "#### Nach dem plankschen Wirkungsquantom kann Energie in Abhängigkeit von Friquenz bestimmt werden und dadurch erhalten wir die Wellenlänge\n",
    "$$ E=h \\nu $$ $$\\nu = 1420.405$$ \n",
    "$$\\mapsto \\lambda=21 cm$$\n",
    "\n",
    "#### Das ist auch zu betrachten dass je mehr Atomr in der wlke gibt desto gibt es eine höhere Wert von $T_{B}$\n",
    "\n",
    "## Rechnungen\n",
    "### Anzahl der Atome pro cm^2\n",
    "#### Die anzahl der Atome ist durch gebgebene formel zu bestimmen\n",
    "$${\\biggl( { \\eta_{\\rm H} \\over {\\rm cm}^{-2} }\\biggr) \\approx 1.82 \\times 10^{18} \\int \\biggl[ { T_{\\rm b} (v) \\over {\\rm K}} \\biggr] d \\biggl( { v \\over {\\rm km~s}^{-1} } \\biggr)}\\rlap{\\quad \\rm {}}$$\n",
    "\n",
    "### Dichte \n",
    "#### Die Dichte ist so zu bestimmen dass man die \"Anzahl der Atome pro cm^2\" durch der Radius der Wolke teilt.Also bekommt man die \"Anzahl der Atome pro cm^3\". Es soll beachtet werden, dass man der Radius pro cm umrechnen soll.\n",
    "\n",
    "##### Es ist in diesen fall für $ dv = 1.288$  $km/s $ und die entfernung 50kpc angenommen\n",
    "### Druck\n",
    "##### Es ist durch die forrmel $P.V= n.K_{b}.T$\n",
    "##### Wobei es die obere Temperatur duch die Linienbereite der Geschwindigkeit gerechnet wird.\n",
    "$$T_{kin} \\leq \\frac{m_{H}\\Delta v^2}{8k_{B}ln(2)}$$\n",
    "\n",
    "##### Quelle : http://www.atnf.csiro.au/people/Tobias.Westmeier/tools_hihelpers.php#temperature\n",
    "\n",
    "##### Boltzman konstante $K_{b}= 1,38064852 . 10^{-23} \\frac{J}{K}$\n",
    "### Masse\n",
    "#### Es ist notwendig dass die Helligkeitstemperatur (K) in Jy.km/s umgerechnet werden.und dann ist die Masse durch gegebene formeln  zu rechnen\n",
    "$${\\biggl ({M_{\\rm H} \\over M_\\odot}\\biggr) \\approx 2.36 \\times10^5 \\biggl( { D \\over {\\rm Mpc} } \\biggr)^2 \\int \\biggl[ { S(v) \\over{\\rm Jy}} \\biggr] \\biggl( {d v \\over {\\rm km~s}^{-1} }\\biggr)}\\rlap{\\quad \\rm }$$\n",
    "\n",
    "\n",
    "## Rauschen\n",
    "#### wie in der Diagramm zu sehen ist, ist Gauß-verteilte Rauschen von eine Karte gezeigt worden\n",
    "\n",
    "##  Fehler Rechnung\n"
   ]
  },
  {
   "cell_type": "markdown",
   "metadata": {},
   "source": [
    "### Für die masse soll man zunächst Kelvin in Jy"
   ]
  },
  {
   "cell_type": "code",
   "execution_count": 21,
   "metadata": {
    "collapsed": false
   },
   "outputs": [
    {
     "data": {
      "text/plain": [
       "0.6965554449432626"
      ]
     },
     "execution_count": 21,
     "metadata": {},
     "output_type": "execute_result"
    }
   ],
   "source": [
    "import numpy as np\n",
    "from astropy import units as u\n",
    "beam_sigma = (10.83/2.355)*u.arcmin\n",
    "beam_area = 2*np.pi*(beam_sigma)**2\n",
    "freq = 1.42*u.GHz\n",
    "equiv = u.brightness_temperature(beam_area, freq)\n",
    "u.K.to(u.Jy, equivalencies=equiv)"
   ]
  },
  {
   "cell_type": "code",
   "execution_count": 24,
   "metadata": {
    "collapsed": false
   },
   "outputs": [
    {
     "data": {
      "image/png": "[encoded data removed]",
      "text/plain": [
       "<matplotlib.figure.Figure at 0x7f1627ac6190>"
      ]
     },
     "metadata": {},
     "output_type": "display_data"
    }
   ],
   "source": [
    "channel2velo = 1.288 #km/s\n",
    "K2Jy = 0.696555444\n",
    "imkw = dict(origin=\"lower\", cmap=\"YlGnBu\", interpolation=\"None\")\n",
    "pl.imshow(np.nansum(d[:50],axis=0)*channel2velo*K2Jy, **imkw)\n",
    "cbar = pl.colorbar()\n",
    "cbar.set_label(r\"$\\rm Jy\\, km\\,s^{-1}$\")"
   ]
  },
  {
   "cell_type": "code",
   "execution_count": 33,
   "metadata": {
    "collapsed": false
   },
   "outputs": [],
   "source": [
    "total_flux1 = np.nansum(d[10:50])*channel2velo*K2Jy\n",
    "total_flux2 = np.nansum(d[154:223])*channel2velo*K2Jy\n",
    "total_flux3 = np.nansum(d[166:176])*channel2velo*K2Jy"
   ]
  },
  {
   "cell_type": "code",
   "execution_count": 40,
   "metadata": {
    "collapsed": false
   },
   "outputs": [
    {
     "data": {
      "text/plain": [
       "<matplotlib.image.AxesImage at 0x7f16273a3050>"
      ]
     },
     "execution_count": 40,
     "metadata": {},
     "output_type": "execute_result"
    },
    {
     "data": {
      "image/png": "[encoded data removed]",
      "text/plain": [
       "<matplotlib.figure.Figure at 0x7f1627f8f390>"
      ]
     },
     "metadata": {},
     "output_type": "display_data"
    }
   ],
   "source": [
    "%matplotlib inline\n",
    "import numpy as np\n",
    "from astropy.io import fits\n",
    "import matplotlib.pyplot as pl\n",
    "d, h = fits.getdata(\"hi.fits\", header=True)\n",
    "d.shape\n",
    "imkw = dict(origin=\"lower\", cmap=\"YlGnBu\", interpolation=\"None\")\n",
    "pl.imshow(np.nansum(d,0), **imkw)"
   ]
  },
  {
   "cell_type": "code",
   "execution_count": 14,
   "metadata": {
    "collapsed": false
   },
   "outputs": [],
   "source": [
    "noisemap = np.std(d[50:120], 0)"
   ]
  },
  {
   "cell_type": "code",
   "execution_count": 15,
   "metadata": {
    "collapsed": false
   },
   "outputs": [
    {
     "data": {
      "image/png": "[encoded data removed]",
      "text/plain": [
       "<matplotlib.figure.Figure at 0x7f1628039810>"
      ]
     },
     "metadata": {},
     "output_type": "display_data"
    },
    {
     "data": {
      "image/png": "[encoded data removed]",
      "text/plain": [
       "<matplotlib.figure.Figure at 0x7f1627fe23d0>"
      ]
     },
     "metadata": {},
     "output_type": "display_data"
    }
   ],
   "source": [
    "pl.imshow(noisemap, **imkw)\n",
    "pl.colorbar()\n",
    "pl.figure()\n",
    "_  = pl.hist(noisemap.flatten(), bins=50)"
   ]
  },
  {
   "cell_type": "markdown",
   "metadata": {},
   "source": [
    "####  Annähern läßt sich die Normalverteilung durch die Gaussche Normalverteilung. Also der Fehler in der Helligkaitstemperatur kann man etwa 0.1 annehmen"
   ]
  },
  {
   "cell_type": "code",
   "execution_count": 58,
   "metadata": {
    "collapsed": false
   },
   "outputs": [
    {
     "data": {
      "text/plain": [
       "[<matplotlib.lines.Line2D at 0x7f1626d0e290>]"
      ]
     },
     "execution_count": 58,
     "metadata": {},
     "output_type": "execute_result"
    },
    {
     "data": {
      "image/png": "[encoded data removed]",
      "text/plain": [
       "<matplotlib.figure.Figure at 0x7f1626e09650>"
      ]
     },
     "metadata": {},
     "output_type": "display_data"
    }
   ],
   "source": [
    "pl.plot(np.mean(d[50:125], (1,2)))"
   ]
  },
  {
   "cell_type": "markdown",
   "metadata": {},
   "source": [
    "## Messungen von den ersten Karte\n",
    "\n",
    "$$Sum = \\sum_{i=1} T_i = 5175.48  K$$\n",
    "$$ \\Delta Glat= 1.085467$$\n",
    "$$\\Delta Glon = 1.94368$$\n",
    "$$\\Delta v = 12.89 km/s$$"
   ]
  },
  {
   "cell_type": "code",
   "execution_count": 64,
   "metadata": {
    "collapsed": false
   },
   "outputs": [
    {
     "name": "stdout",
     "output_type": "stream",
     "text": [
      "Der Anzahl der Atome ist 4.8463082549e+21 +\\- 1.825e+18\n",
      "Der Betrag der Volumen ist 2.50812857995e+69 cm^3\n",
      "T = 3632.97750391\n",
      "Dichte = 0.0574986046094 +\\- 1.1864413402e-23\n",
      "der Druck der Wolke ist  0.00173681744205\n",
      "1956425.44382 in sonnenmasse\n",
      "1.825e+18\n"
     ]
    }
   ],
   "source": [
    "import math\n",
    "\n",
    "SUM=5175.48                                        #npoints=640\n",
    "rauschen= 1004.05                                  #npoints=255\n",
    "SUM_1= 640*1004.05/255                             #Rauschen in SUM pixel\n",
    "glat = 1.085467\n",
    "glon = 1.94368\n",
    "dv=12890\n",
    "alpha = ((glat**2+glon**2)**(1/2))/2               # Das ist die Winkel von Radius\n",
    "r = math.tan(alpha)*1.54283879 * 10**23            # Radius in cm\n",
    "n=1.825*(SUM-SUM_1)*10**18\n",
    "v = (4*math.pi*r**3)/3                             # Volumen in cm^3\n",
    "k = 1.38064852*10**(-23)                           # Boltzman konstante\n",
    "T = ((1.674*10**(-27))*dv**2)/((8*k)*math.log(2))  # obere Temperatur der Wolke in kelvin\n",
    "ro = n/r                                           # eingeschaetzte dichte\n",
    "R = 8.3144621                                      # Gaskonstante\n",
    "p = ro*10**(-6) *R*T\n",
    "masse1=total_flux1*0.005*2.36*10**5\n",
    "\n",
    "noise_error= 0.1\n",
    "Sum_error= 640* noise_error\n",
    "delta_n=1.825*10**18\n",
    "delte_ro= 1/r\n",
    "#delta_p= ro*10**(-6) *R*T\n",
    "\n",
    "print \"Der Anzahl der Atome ist\"+\" \"+str(n) +\" \"+ \"+\\-\" +\" \" +str(delta_n)\n",
    "print \"Der Betrag der Volumen ist\"+\" \"+str(v)+\" \"+\"cm^3\"\n",
    "print \"T = \"+str(T)\n",
    "print \"Dichte = \"+str(ro) +\" \" +\"+\\-\" +\" \"+str(delte_ro)\n",
    "print \"der Druck der Wolke ist \"+\" \"+str(p)\n",
    "print str(masse1)+\" \"+\"in sonnenmasse\"\n",
    "print str(delta_n)\n"
   ]
  },
  {
   "cell_type": "markdown",
   "metadata": {},
   "source": [
    "## Messungen von zweiten Karte (hvc154-223.fits)\n",
    "\n",
    "$$Sum = \\sum_{i=1} T_i = 192379 K$$\n",
    "$$ \\Delta Glat= 2.06387$$\n",
    "$$\\Delta Glon = 3.86411$$\n",
    "$$\\Delta v = 101,88 km/s$$"
   ]
  },
  {
   "cell_type": "code",
   "execution_count": 66,
   "metadata": {
    "collapsed": false
   },
   "outputs": [
    {
     "name": "stdout",
     "output_type": "stream",
     "text": [
      "Der Anzahl der Atome ist 3.43580388636e+23 +\\- 1.825e+18\n",
      "Der Betrag der Volumen ist 2.50812857995e+69 cm^3\n",
      "T = 226952.382644\n",
      "Dichte = 4.07637976758 +\\- 1.1864413402e-23\n",
      "der Druck der Wolke ist  7.69207556325\n",
      "202245714.08 in sonnenmasse\n"
     ]
    }
   ],
   "source": [
    "import math\n",
    "SUM=192379                                      #npoints=1716 \n",
    "rauschen=12051.8                                   #npoints=162\n",
    "Sum_1=1716*12051.8/162\n",
    "n=1.825*(SUM-SUM_1)*10**18\n",
    "glat = 2.06387\n",
    "glon = 3.86411\n",
    "dv=101880\n",
    "alpha = ((glat**2+glon**2)**(1/2))/2               # Das ist die Winkel von Radius\n",
    "r = math.tan(alpha)*1.54283879 * 10**23            # Radius in cm\n",
    "v = (4*math.pi*r**3)/3                             # Volumen in cm^3\n",
    "k = 1.38064852*10**(-23)                           # Boltzman konstante\n",
    "T = ((1.674*10**(-27))*dv**2)/((8*k)*math.log(2))  # obere Temperatur der Wolke in kelvin\n",
    "ro = n/r                                           # eingeschaetzte dichte\n",
    "R = 8.3144621                                      # Gaskonstante\n",
    "p = ro*10**(-6) *R*T\n",
    "masse2=total_flux2*0.005*2.36*10**5\n",
    "noise_error= 0.1\n",
    "Sum_error= 640* noise_error\n",
    "delta_n=1.825*10**18\n",
    "delte_ro= 1/r\n",
    "#delta_p= ro*10**(-6) *R*T\n",
    "\n",
    "print \"Der Anzahl der Atome ist\"+\" \"+str(n) +\" \"+ \"+\\-\" +\" \" +str(delta_n)\n",
    "print \"Der Betrag der Volumen ist\"+\" \"+str(v)+\" \"+\"cm^3\"\n",
    "print \"T = \"+str(T)\n",
    "print \"Dichte = \"+str(ro)+\" \" +\"+\\-\" +\" \"+str(delte_ro)\n",
    "print \"der Druck der Wolke ist \"+\" \"+str(p)\n",
    "print str(masse2)+\" \"+\"in sonnenmasse\""
   ]
  },
  {
   "cell_type": "markdown",
   "metadata": {},
   "source": [
    "## Messungen von dritten Karte (hvc166-176.fits)\n",
    "\n",
    "$$Sum = \\sum_{i=1} T_i = 8042.03 K$$\n",
    "$$ \\Delta Glat= 2.062387$$\n",
    "$$\\Delta Glon = 2.07032$$\n",
    "$$\\Delta v = 12,88 km/s$$"
   ]
  },
  {
   "cell_type": "code",
   "execution_count": 65,
   "metadata": {
    "collapsed": false
   },
   "outputs": [
    {
     "name": "stdout",
     "output_type": "stream",
     "text": [
      "Der Anzahl der Atome ist 7.16541838625e+21 +\\- 1.825e+18\n",
      "Der Betrag der Volumen ist 2.50812857995e+69 cm^3\n",
      "T = 3627.3427975\n",
      "Dichte = 0.0850134859324 +\\- 1.1864413402e-23\n",
      "der Druck der Wolke ist  0.00256395608584\n",
      "8667387.11626 in sonnenmasse\n"
     ]
    }
   ],
   "source": [
    "import math\n",
    "SUM=8042.03                                        #npoits=1404 \n",
    "rauschen=938.068                                   #npoints=320 \n",
    "SUM_1=1404*938.068/320\n",
    "n=1.825*(SUM-SUM_1)*10**18\n",
    "glat = 2.062387\n",
    "glon = 2.07032\n",
    "dv=12880\n",
    "alpha = ((glat**2+glon**2)**(1/2))/2               # Das ist die Winkel von Radius\n",
    "r = math.tan(alpha)*1.54283879 * 10**23            # Radius in cm\n",
    "v = (4*math.pi*r**3)/3                             # Volumen in cm^3\n",
    "k = 1.38064852*10**(-23)                           # Boltzman konstante\n",
    "T = ((1.674*10**(-27))*dv**2)/((8*k)*math.log(2))  # obere Temperatur der Wolke in kelvin\n",
    "ro = n/r                                           # eingeschaetzte dichte\n",
    "R = 8.3144621                                      # Gaskonstante\n",
    "p = ro*10**(-6) *R*T\n",
    "masse3=total_flux3*0.005*2.36*10**5\n",
    "noise_error= 0.1\n",
    "Sum_error= 640* noise_error\n",
    "delta_n=1.825*10**18\n",
    "delte_ro= 1/r\n",
    "#delta_p= ro*10**(-6) *R*T\n",
    "\n",
    "print \"Der Anzahl der Atome ist\"+\" \"+str(n) +\" \"+ \"+\\-\" +\" \" +str(delta_n)\n",
    "print \"Der Betrag der Volumen ist\"+\" \"+str(v)+\" \"+\"cm^3\"\n",
    "print \"T = \"+str(T)\n",
    "print \"Dichte = \"+str(ro)+\" \" +\"+\\-\" +\" \"+str(delte_ro)\n",
    "print \"der Druck der Wolke ist \"+\" \"+str(p)\n",
    "print str(masse3)+\" \"+\"in sonnenmasse\""
   ]
  },
  {
   "cell_type": "code",
   "execution_count": 15,
   "metadata": {
    "collapsed": false
   },
   "outputs": [
    {
     "data": {
      "text/plain": [
       "[<matplotlib.lines.Line2D at 0x7f8a37acf150>]"
      ]
     },
     "execution_count": 15,
     "metadata": {},
     "output_type": "execute_result"
    },
    {
     "data": {
      "image/png": "[encoded data removed]",
      "text/plain": [
       "<matplotlib.figure.Figure at 0x7f8a373b0d10>"
      ]
     },
     "metadata": {},
     "output_type": "display_data"
    }
   ],
   "source": [
    "pl.plot(np.mean(d,(1,2)))"
   ]
  },
  {
   "cell_type": "code",
   "execution_count": null,
   "metadata": {
    "collapsed": false
   },
   "outputs": [],
   "source": []
  }
 ],
 "metadata": {
  "kernelspec": {
   "display_name": "Python 2",
   "language": "python",
   "name": "python2"
  },
  "language_info": {
   "codemirror_mode": {
    "name": "ipython",
    "version": 2
   },
   "file_extension": ".py",
   "mimetype": "text/x-python",
   "name": "python",
   "nbconvert_exporter": "python",
   "pygments_lexer": "ipython2",
   "version": "2.7.10"
  }
 },
 "nbformat": 4,
 "nbformat_minor": 0
}
