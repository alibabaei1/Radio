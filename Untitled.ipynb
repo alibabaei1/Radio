{
 "cells": [
  {
   "cell_type": "markdown",
   "metadata": {},
   "source": [
    "# Bestimmung der Druck und Masse einer HI Wolke\n",
    "\n",
    "## Pysikalische Grundlagen\n",
    "\n",
    "#### Die Quelle von alle angenommene Werte und Formeln : http://www.cv.nrao.edu/course/astr534/HILine.html \n",
    "\n",
    "### Rayleigh-Jeans-Näherung\n",
    "#### Durch die Rayleigh-Jeans-Näherungsformel kann man darauf kommen, dass die Helligkeitstemperatur Abhängig von Helligkeit ist. \n",
    "$$ {B(\\nu,T)=\\frac{2h\\nu^3}{c^2} (e^{\\frac{h\\nu}{KT}}-1)^{-1}}$$\n",
    "#### Die Taylorentwiklung von e-Funktion ergibt dass \n",
    "$$B_{\\nu} \\propto T$$\n",
    "\n",
    "### Hyperfeinstrukturübergang\n",
    "#### Die Energieunterschied zwischen den Parellel und Antiparallel gerichtete Spin des Elektrons und Protons in den neutralen Hydrogen verursacht  Emission der HI Strahlung. Dagegen kann dieses Atom duch Absorbtion der Strahlung wieder parallel gerichtet werden. Nach dem lebensdauer der angeregten Zustand bis ein Atom ohne äußere Wirkung, die duch spontane Zerfall bestimmt wird, emittiert wieder der gleichen Strahl.\n",
    "$$\\tau = \\frac{1}{A_{21}}$$\n",
    "\n",
    "\n",
    "#### Zu betrachten ist, dass die absorbierte Energie muss nach dem kirschhoff'schen Prinzip wieder abgestrahlt werden und zwar in alle Richtungen (isotrop)\n",
    "#### Die Energiedifferenz wäre etwa $ 5,9.10^{-6} eV$ .\n",
    "#### Nach dem plankschen Wirkungsquantom kann Energie in Abhängigkeit von Friquenz bestimmt werden und dadurch erhalten wir die Wellenlänge\n",
    "$$ E=h \\nu $$ $$\\nu = 1420.405$$ \n",
    "$$\\mapsto \\lambda=21 cm$$\n",
    "\n",
    "#### Das ist auch zu betrachten dass je mehr Atomr in der wlke gibt desto gibt es eine höhere Wert von $T_{B}$\n",
    "\n",
    "## Rechnungen\n",
    "### Anzahl der Atome\n",
    "#### Die anzahl der Atome ist durch gebgebene formel zu bestimmen\n",
    "$${\\biggl( { \\eta_{\\rm H} \\over {\\rm cm}^{-2} }\\biggr) \\approx 1.82 \\times 10^{18} \\int \\biggl[ { T_{\\rm b} (v) \\over {\\rm K}} \\biggr] d \\biggl( { v \\over {\\rm km~s}^{-1} } \\biggr)}\\rlap{\\quad \\rm {}}$$\n",
    "\n",
    "##### Es ist in diesen fall für $ dv = 1.288$  $km/s $ und die entfernung 50kpc angenommen\n",
    "##### Es ist durch die forrmel $P.V= n.K_{b}.T$\n",
    "##### Wobei es die obere Temperatur duch die Linienbereite der Geschwindigkeit gerechnet wird.\n",
    "$$T_{kin} \\leq \\frac{m_{H}\\Delta v^2}{8k_{B}ln(2)}$$\n",
    "\n",
    "##### Quelle : http://www.atnf.csiro.au/people/Tobias.Westmeier/tools_hihelpers.php#temperature\n",
    "\n",
    "##### Boltzman konstante $K_{b}= 1,38064852 . 10^{-23} \\frac{J}{K}$"
   ]
  },
  {
   "cell_type": "markdown",
   "metadata": {},
   "source": [
    "## Messungen von den ersten Karte\n",
    "\n",
    "$$Sum = \\sum_{i=1} T_i = 5036.29 K$$\n",
    "$$ \\Delta Glat= 1.085467$$\n",
    "$$\\Delta Glon = 1.94368$$\n",
    "$$\\Delta v = 12.89 km/s$$"
   ]
  },
  {
   "cell_type": "code",
   "execution_count": 41,
   "metadata": {
    "collapsed": false
   },
   "outputs": [
    {
     "name": "stdout",
     "output_type": "stream",
     "text": [
      "Der Anzahl der Atome ist 1.1838303274e+22\n",
      "Der Betrag der Volumen ist 2.50812857995e+69 cm^3\n",
      "3632.97750391\n",
      "7.90123753588e-75\n",
      "der Druck der Wolke ist  2.38666786077e-70\n",
      "1.31980197523e-52\n"
     ]
    }
   ],
   "source": [
    "import math\n",
    "SUM=5036.29\n",
    "n=1.825*SUM*1.288*10**18\n",
    "glat = 1.085467\n",
    "glon = 1.94368\n",
    "dv=12890\n",
    "alpha = ((glat**2+glon**2)**(1/2))/2               # Das ist die Winkel von Radius\n",
    "r = math.tan(alpha)*1.54283879 * 10**23            # Radius in cm\n",
    "v = (4*math.pi*r**3)/3                             # Volumen in cm^3\n",
    "#k = 0.69503476\n",
    "k = 1.38064852*10**(-23)                           # Boltzman konstante\n",
    "T = ((1.674*10**(-27))*dv**2)/((8*k)*math.log(2))  # obere Temperatur der Wolke in kelvin\n",
    "ro = n*1.674*10**(-27)/v                           # eingeschaetzte dichte\n",
    "R = 8.3144621                                      # Gaskonstante\n",
    "p = ro *R*T\n",
    "omega=4*math.pi*alpha**2/(1.54283879 * 10**26)**2\n",
    "print \"Der Anzahl der Atome ist\"+\" \"+str(n)\n",
    "print \"Der Betrag der Volumen ist\"+\" \"+str(v)+\" \"+\"cm^3\"\n",
    "print T\n",
    "print ro\n",
    "print \"der Druck der Wolke ist \"+\" \"+str(p)\n",
    "print omega"
   ]
  },
  {
   "cell_type": "markdown",
   "metadata": {},
   "source": [
    "## Messungen von zweiten Karte (hvc154-223.fits)\n",
    "\n",
    "$$Sum = \\sum_{i=1} T_i = 192379 K$$\n",
    "$$ \\Delta Glat= 2.06387$$\n",
    "$$\\Delta Glon = 3.86411$$\n",
    "$$\\Delta v = 101,88 km/s$$"
   ]
  },
  {
   "cell_type": "code",
   "execution_count": 36,
   "metadata": {
    "collapsed": false
   },
   "outputs": [
    {
     "name": "stdout",
     "output_type": "stream",
     "text": [
      "Der Anzahl der Atome ist 4.522060774e+23\n",
      "Der Betrag der Volumen ist 2.50812857995e+69 cm^3\n",
      "226952.382644\n",
      "3.01815855702e-73\n",
      "der Druck der Wolke ist  5.69522591274e-67\n"
     ]
    }
   ],
   "source": [
    "import math\n",
    "SUM=192379\n",
    "n=1.825*SUM*1.288*10**18\n",
    "glat = 2.06387\n",
    "glon = 3.86411\n",
    "dv=101880\n",
    "alpha = ((glat**2+glon**2)**(1/2))/2               # Das ist die Winkel von Radius\n",
    "r = math.tan(alpha)*1.54283879 * 10**23            # Radius in cm\n",
    "v = (4*math.pi*r**3)/3                             # Volumen in cm^3\n",
    "k = 1.38064852*10**(-23)                           # Boltzman konstante\n",
    "T = ((1.674*10**(-27))*dv**2)/((8*k)*math.log(2))  # obere Temperatur der Wolke in kelvin\n",
    "ro = n*1.674*10**(-27)/v                           # eingeschaetzte dichte\n",
    "R = 8.3144621                                      # Gaskonstante\n",
    "p = ro *R*T\n",
    "print \"Der Anzahl der Atome ist\"+\" \"+str(n)\n",
    "print \"Der Betrag der Volumen ist\"+\" \"+str(v)+\" \"+\"cm^3\"\n",
    "print T\n",
    "print ro\n",
    "print \"der Druck der Wolke ist \"+\" \"+str(p)"
   ]
  },
  {
   "cell_type": "markdown",
   "metadata": {},
   "source": [
    "## Messungen von dritten Karte (hvc166-176.fits)\n",
    "\n",
    "$$Sum = \\sum_{i=1} T_i = 7566.62 K$$\n",
    "$$ \\Delta Glat= 2.062387$$\n",
    "$$\\Delta Glon = 2.07032$$\n",
    "$$\\Delta v = 12,88 km/s$$"
   ]
  },
  {
   "cell_type": "code",
   "execution_count": 37,
   "metadata": {
    "collapsed": false
   },
   "outputs": [
    {
     "name": "stdout",
     "output_type": "stream",
     "text": [
      "Der Anzahl der Atome ist 1.7786096972e+22\n",
      "Der Betrag der Volumen ist 2.50812857995e+69 cm^3\n",
      "3627.3427975\n",
      "1.18709728716e-74\n",
      "der Druck der Wolke ist  3.58021469244e-70\n"
     ]
    }
   ],
   "source": [
    "import math\n",
    "SUM=7566.62\n",
    "n=1.825*SUM*1.288*10**18\n",
    "glat = 2.062387\n",
    "glon = 2.07032\n",
    "dv=12880\n",
    "alpha = ((glat**2+glon**2)**(1/2))/2               # Das ist die Winkel von Radius\n",
    "r = math.tan(alpha)*1.54283879 * 10**23            # Radius in cm\n",
    "v = (4*math.pi*r**3)/3                             # Volumen in cm^3\n",
    "k = 1.38064852*10**(-23)                           # Boltzman konstante\n",
    "T = ((1.674*10**(-27))*dv**2)/((8*k)*math.log(2))  # obere Temperatur der Wolke in kelvin\n",
    "ro = n*1.674*10**(-27)/v                           # eingeschaetzte dichte\n",
    "R = 8.3144621                                      # Gaskonstante\n",
    "p = ro *R*T\n",
    "print \"Der Anzahl der Atome ist\"+\" \"+str(n)\n",
    "print \"Der Betrag der Volumen ist\"+\" \"+str(v)+\" \"+\"cm^3\"\n",
    "print T\n",
    "print ro\n",
    "print \"der Druck der Wolke ist \"+\" \"+str(p)"
   ]
  },
  {
   "cell_type": "code",
   "execution_count": null,
   "metadata": {
    "collapsed": false,
    "scrolled": true
   },
   "outputs": [],
   "source": []
  },
  {
   "cell_type": "markdown",
   "metadata": {},
   "source": []
  }
 ],
 "metadata": {
  "kernelspec": {
   "display_name": "Python 2",
   "language": "python",
   "name": "python2"
  },
  "language_info": {
   "codemirror_mode": {
    "name": "ipython",
    "version": 2
   },
   "file_extension": ".py",
   "mimetype": "text/x-python",
   "name": "python",
   "nbconvert_exporter": "python",
   "pygments_lexer": "ipython2",
   "version": "2.7.10"
  }
 },
 "nbformat": 4,
 "nbformat_minor": 0
}
